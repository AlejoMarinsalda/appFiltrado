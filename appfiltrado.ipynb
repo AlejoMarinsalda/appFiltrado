{
 "cells": [
  {
   "cell_type": "code",
   "execution_count": null,
   "metadata": {},
   "outputs": [],
   "source": [
    "import pandas as pd\n",
    "from pandas import ExcelWriter\n",
    "from tkinter import *\n",
    "from tkinter import filedialog\n",
    "import tkinter as tk\n"
   ]
  },
  {
   "attachments": {},
   "cell_type": "markdown",
   "metadata": {},
   "source": [
    "Apertura y guardado del excel que queremos filtrar "
   ]
  },
  {
   "cell_type": "code",
   "execution_count": null,
   "metadata": {},
   "outputs": [],
   "source": [
    "raiz=Tk()\n",
    "\n",
    "\n",
    "\n",
    "archivoP=filedialog.askopenfilename(title=\"abrir archivo que deseas filtrar\")\n",
    "\n",
    "\n",
    "raiz.mainloop()"
   ]
  },
  {
   "attachments": {},
   "cell_type": "markdown",
   "metadata": {},
   "source": [
    "Apertura y guardado de los excels por los cuales queremos filtrar el excel principal"
   ]
  },
  {
   "cell_type": "code",
   "execution_count": null,
   "metadata": {},
   "outputs": [],
   "source": [
    "raiz=Tk()\n",
    "\n",
    "\n",
    "\n",
    "\n",
    "archivos={}\n",
    "for archivo in range(4):    \n",
    "    archivos[archivo]=filedialog.askopenfilename(title=\"abrir\")#guardado de los distintos excels en un array\n",
    "\n",
    "\n",
    "raiz.mainloop()\n",
    "\n",
    "ventana = tk.Tk()\n",
    "ventana.title(\"\")     \n",
    "ventana.geometry(\"280x200\")\n",
    "\n"
   ]
  },
  {
   "attachments": {},
   "cell_type": "markdown",
   "metadata": {},
   "source": [
    "lectura de los excels seleccionados"
   ]
  },
  {
   "cell_type": "code",
   "execution_count": null,
   "metadata": {},
   "outputs": [],
   "source": [
    "etiqueta1=tk.Label(ventana,text=\"El proceso de filtrado a comenzado\",bg=\"red\")#cuadro de dialogo que indica el comienzo de filtrado\n",
    "etiqueta1.pack(pady=\"50px\",fill=tk.X)\n",
    "ventana.mainloop()\n",
    "\n",
    "try:\n",
    "    df = pd. concat(pd. read_excel (archivoP, sheet_name = None ), ignore_index = True )#leemos los excels y concatenamos todas las paginas del mismo en una sola para eso indicamos sheet_name = none\n",
    "    df0 = pd. concat(pd. read_excel (archivos[0], sheet_name = None ), ignore_index = True )\n",
    "    df1 = pd. concat(pd. read_excel (archivos[1], sheet_name = None ), ignore_index = True )\n",
    "    df2= pd. concat(pd. read_excel (archivos[2], sheet_name = None ), ignore_index = True )\n",
    "    df3 = pd. concat(pd. read_excel (archivos[3], sheet_name = None ), ignore_index = True)\n",
    "except:\n",
    "    pass #usamos el except para que ignore el error y continue con el script en caso de que no se seleccionen todos los excels \n"
   ]
  },
  {
   "attachments": {},
   "cell_type": "markdown",
   "metadata": {},
   "source": [
    "proceso de merge "
   ]
  },
  {
   "cell_type": "code",
   "execution_count": null,
   "metadata": {},
   "outputs": [],
   "source": [
    "merge1=df.merge(df0)\n",
    "merge2=df.merge(df1)\n",
    "merge3=df.merge(df2)\n",
    "merge4=df.merge(df3)\n",
    "\n",
    "other=pd.merge(merge1,merge3,how=\"outer\")\n",
    "other2=pd.merge(merge2,merge4,how=\"outer\")\n",
    "last_merge=pd.merge(other,other2,how=\"outer\")\n",
    "\n",
    "#hago un merge por cada excel por el cual quiero filtrar mi archivo principal y luego los uno\n",
    "\n",
    "\n",
    "\n",
    "\n",
    "\n",
    "\n",
    "\n",
    "\n"
   ]
  },
  {
   "attachments": {},
   "cell_type": "markdown",
   "metadata": {},
   "source": [
    "guardado del excel filtrado"
   ]
  },
  {
   "cell_type": "code",
   "execution_count": null,
   "metadata": {},
   "outputs": [],
   "source": [
    "writer = ExcelWriter(r\"C:\\Users\\Public\\Excel Filtrado.xlsx\")\n",
    "last_merge.to_excel(writer,'Hoja de datos',index=False)\n",
    "writer.save()\n",
    "\n",
    "ventana = tk.Tk()\n",
    "ventana.title(\"\")     \n",
    "ventana.geometry(\"380x200\")\n",
    "\n",
    "etiqueta1=tk.Label(ventana,text=\"El proceso de filtrado a finalizado\",bg=\"green\")\n",
    "etiqueta1.pack(pady=\"40px\",fill=tk.X)\n",
    "etiqueta2 = tk.Label(ventana,text=\"El archivo se guardo en: disco C> usuarios > Acceso publico\",bg=\"yellow\")\n",
    "etiqueta2.pack(fill=tk.X)\n",
    "\n",
    "ventana.mainloop()"
   ]
  }
 ],
 "metadata": {
  "kernelspec": {
   "display_name": "Python 3",
   "language": "python",
   "name": "python3"
  },
  "language_info": {
   "name": "python",
   "version": "3.11.1"
  },
  "orig_nbformat": 4,
  "vscode": {
   "interpreter": {
    "hash": "ff4f50197e4f4f2fe1b7ae506bedd3a10a12c3116b597d9880e1377129d33155"
   }
  }
 },
 "nbformat": 4,
 "nbformat_minor": 2
}
