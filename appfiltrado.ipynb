{
 "cells": [
  {
   "cell_type": "code",
   "execution_count": 1,
   "metadata": {},
   "outputs": [],
   "source": [
    "import pandas as pd\n",
    "import xlwings as xw\n",
    "import openpyxl as op\n",
    "from pathlib import Path\n",
    "from pandas import ExcelWriter\n",
    "import time\n",
    "from tkinter import *\n",
    "from tkinter import filedialog\n",
    "import tkinter as tk\n"
   ]
  },
  {
   "cell_type": "code",
   "execution_count": 8,
   "metadata": {},
   "outputs": [],
   "source": [
    "raiz=Tk()\n",
    "\n",
    "\n",
    "\n",
    "archivoP=filedialog.askopenfilename(title=\"abrir archivo que deseas filtrar\")\n",
    "\n",
    "\n",
    "raiz.mainloop()"
   ]
  },
  {
   "cell_type": "code",
   "execution_count": 4,
   "metadata": {},
   "outputs": [],
   "source": [
    "raiz=Tk()\n",
    "\n",
    "\n",
    "\n",
    "\n",
    "archivos={}\n",
    "for archivo in range(4):    \n",
    "    archivos[archivo]=filedialog.askopenfilename(title=\"abrir\")\n",
    "\n",
    "\n",
    "raiz.mainloop()\n",
    "\n",
    "ventana = tk.Tk()\n",
    "ventana.title(\"\")     \n",
    "ventana.geometry(\"280x200\")\n",
    "\n",
    "etiqueta1=tk.Label(ventana,text=\"El proceso de filtrado a comenzado\",bg=\"red\")\n",
    "etiqueta1.pack(pady=\"50px\",fill=tk.X)\n",
    "ventana.mainloop()\n"
   ]
  },
  {
   "cell_type": "code",
   "execution_count": 25,
   "metadata": {},
   "outputs": [
    {
     "name": "stderr",
     "output_type": "stream",
     "text": [
      "c:\\Users\\marin\\AppData\\Local\\Programs\\Python\\Python311\\Lib\\site-packages\\openpyxl\\worksheet\\_reader.py:211: UserWarning: Cell B450 is marked as a date but the serial value 6619247 is outside the limits for dates. The cell will be treated as an error.\n",
      "  warn(msg)\n",
      "c:\\Users\\marin\\AppData\\Local\\Programs\\Python\\Python311\\Lib\\site-packages\\openpyxl\\worksheet\\_reader.py:211: UserWarning: Cell L88 is marked as a date but the serial value 6691748 is outside the limits for dates. The cell will be treated as an error.\n",
      "  warn(msg)\n",
      "c:\\Users\\marin\\AppData\\Local\\Programs\\Python\\Python311\\Lib\\site-packages\\openpyxl\\worksheet\\_reader.py:211: UserWarning: Cell Z742 is marked as a date but the serial value 6691767 is outside the limits for dates. The cell will be treated as an error.\n",
      "  warn(msg)\n",
      "c:\\Users\\marin\\AppData\\Local\\Programs\\Python\\Python311\\Lib\\site-packages\\openpyxl\\worksheet\\_reader.py:211: UserWarning: Cell P1075 is marked as a date but the serial value 8444939 is outside the limits for dates. The cell will be treated as an error.\n",
      "  warn(msg)\n",
      "c:\\Users\\marin\\AppData\\Local\\Programs\\Python\\Python311\\Lib\\site-packages\\openpyxl\\worksheet\\_reader.py:211: UserWarning: Cell L1271 is marked as a date but the serial value 6691859 is outside the limits for dates. The cell will be treated as an error.\n",
      "  warn(msg)\n"
     ]
    }
   ],
   "source": [
    "# try:\n",
    "df = pd. concat(pd. read_excel (archivoP, sheet_name = None ), ignore_index = True )\n",
    "df0 = pd. concat(pd. read_excel (archivos[0], sheet_name = None ), ignore_index = True )\n",
    "df1 = pd. concat(pd. read_excel (archivos[1], sheet_name = None ), ignore_index = True )\n",
    "df2= pd. concat(pd. read_excel (archivos[2], sheet_name = None ), ignore_index = True )\n",
    "df3 = pd. concat(pd. read_excel (archivos[3], sheet_name = None ), ignore_index = True)\n",
    "# except:\n",
    "#     pass\n"
   ]
  },
  {
   "cell_type": "code",
   "execution_count": 26,
   "metadata": {},
   "outputs": [
    {
     "name": "stdout",
     "output_type": "stream",
     "text": [
      "          DNI\n",
      "0    41637639\n",
      "1    43009961\n",
      "2    43424326\n",
      "3    33733460\n",
      "4    46299839\n",
      "..        ...\n",
      "100  42610279\n",
      "101  40786912\n",
      "102  35001761\n",
      "103  30901760\n",
      "104  40618669\n",
      "\n",
      "[105 rows x 1 columns]\n"
     ]
    }
   ],
   "source": [
    "print(archivos)"
   ]
  },
  {
   "cell_type": "code",
   "execution_count": 27,
   "metadata": {},
   "outputs": [
    {
     "data": {
      "text/html": [
       "<div>\n",
       "<style scoped>\n",
       "    .dataframe tbody tr th:only-of-type {\n",
       "        vertical-align: middle;\n",
       "    }\n",
       "\n",
       "    .dataframe tbody tr th {\n",
       "        vertical-align: top;\n",
       "    }\n",
       "\n",
       "    .dataframe thead th {\n",
       "        text-align: right;\n",
       "    }\n",
       "</style>\n",
       "<table border=\"1\" class=\"dataframe\">\n",
       "  <thead>\n",
       "    <tr style=\"text-align: right;\">\n",
       "      <th></th>\n",
       "      <th>DNI</th>\n",
       "      <th>APELLIDO Y NOMBRES</th>\n",
       "      <th>INGRESO</th>\n",
       "      <th>TIPO LIQ</th>\n",
       "      <th>PLANTA</th>\n",
       "      <th>CUIL</th>\n",
       "      <th>EGRESO</th>\n",
       "      <th>ESTADO</th>\n",
       "      <th>CCCONTABLE</th>\n",
       "      <th>cc</th>\n",
       "      <th>cc.1</th>\n",
       "      <th>cc ERP</th>\n",
       "    </tr>\n",
       "  </thead>\n",
       "  <tbody>\n",
       "  </tbody>\n",
       "</table>\n",
       "</div>"
      ],
      "text/plain": [
       "Empty DataFrame\n",
       "Columns: [DNI, APELLIDO Y NOMBRES, INGRESO, TIPO LIQ, PLANTA, CUIL, EGRESO, ESTADO, CCCONTABLE, cc, cc.1, cc ERP]\n",
       "Index: []"
      ]
     },
     "execution_count": 27,
     "metadata": {},
     "output_type": "execute_result"
    }
   ],
   "source": [
    "MERGE=df.merge(df1,right_on=\"DNI\",left_on=\"DNI\")\n",
    "MERGE"
   ]
  }
 ],
 "metadata": {
  "kernelspec": {
   "display_name": "Python 3",
   "language": "python",
   "name": "python3"
  },
  "language_info": {
   "name": "python",
   "version": "3.11.1"
  },
  "orig_nbformat": 4,
  "vscode": {
   "interpreter": {
    "hash": "ff4f50197e4f4f2fe1b7ae506bedd3a10a12c3116b597d9880e1377129d33155"
   }
  }
 },
 "nbformat": 4,
 "nbformat_minor": 2
}
