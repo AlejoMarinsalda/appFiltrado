{
 "cells": [
  {
   "cell_type": "code",
   "execution_count": 125,
   "metadata": {},
   "outputs": [],
   "source": [
    "import pandas as pd\n",
    "from pandas import ExcelWriter\n",
    "from tkinter import *\n",
    "from tkinter import filedialog\n",
    "import tkinter as tk\n"
   ]
  },
  {
   "attachments": {},
   "cell_type": "markdown",
   "metadata": {},
   "source": [
    "Apertura y guardado del excel que queremos filtrar "
   ]
  },
  {
   "cell_type": "code",
   "execution_count": 126,
   "metadata": {},
   "outputs": [],
   "source": [
    "raiz=Tk()\n",
    "\n",
    "\n",
    "\n",
    "archivoP=filedialog.askopenfilename(title=\"abrir archivo que deseas filtrar\")\n",
    "\n",
    "\n",
    "raiz.mainloop()"
   ]
  },
  {
   "attachments": {},
   "cell_type": "markdown",
   "metadata": {},
   "source": [
    "Apertura y guardado de los excels por los cuales queremos filtrar el excel principal"
   ]
  },
  {
   "cell_type": "code",
   "execution_count": 127,
   "metadata": {},
   "outputs": [
    {
     "data": {
      "text/plain": [
       "''"
      ]
     },
     "execution_count": 127,
     "metadata": {},
     "output_type": "execute_result"
    }
   ],
   "source": [
    "raiz=Tk()\n",
    "\n",
    "\n",
    "\n",
    "\n",
    "archivos={}\n",
    "for archivo in range(4):    \n",
    "    archivos[archivo]=filedialog.askopenfilename(title=\"abrir\")#guardado de los distintos excels en un array\n",
    "\n",
    "\n",
    "raiz.mainloop()\n",
    "\n",
    "ventana = tk.Tk()\n",
    "ventana.title(\"\")     \n",
    "ventana.geometry(\"280x200\")\n",
    "\n"
   ]
  },
  {
   "attachments": {},
   "cell_type": "markdown",
   "metadata": {},
   "source": [
    "lectura de los excels seleccionados"
   ]
  },
  {
   "cell_type": "code",
   "execution_count": 128,
   "metadata": {},
   "outputs": [
    {
     "name": "stderr",
     "output_type": "stream",
     "text": [
      "c:\\Users\\marin\\AppData\\Local\\Programs\\Python\\Python311\\Lib\\site-packages\\openpyxl\\worksheet\\_reader.py:211: UserWarning: Cell B450 is marked as a date but the serial value 6619247 is outside the limits for dates. The cell will be treated as an error.\n",
      "  warn(msg)\n"
     ]
    }
   ],
   "source": [
    "etiqueta1=tk.Label(ventana,text=\"El proceso de filtrado a comenzado\",bg=\"red\")#cuadro de dialogo que indica el comienzo de filtrado\n",
    "etiqueta1.pack(pady=\"50px\",fill=tk.X)\n",
    "ventana.mainloop()\n",
    "\n",
    "try:\n",
    "    df = pd. concat(pd. read_excel (archivoP, sheet_name = None ), ignore_index = True )#leemos los excels y concatenamos todas las paginas del mismo en una sola para eso indicamos sheet_name = none\n",
    "    df0 = pd. concat(pd. read_excel (archivos[0], sheet_name = None ), ignore_index = True )\n",
    "    df1 = pd. concat(pd. read_excel (archivos[1], sheet_name = None ), ignore_index = True )\n",
    "    df2= pd. concat(pd. read_excel (archivos[2], sheet_name = None ), ignore_index = True )\n",
    "    df3 = pd. concat(pd. read_excel (archivos[3], sheet_name = None ), ignore_index = True)\n",
    "except:\n",
    "    pass #usamos el except para que ignore el error y continue con el script en caso de que no se seleccionen todos los excels \n"
   ]
  },
  {
   "attachments": {},
   "cell_type": "markdown",
   "metadata": {},
   "source": [
    "proceso de merge "
   ]
  },
  {
   "cell_type": "code",
   "execution_count": 129,
   "metadata": {},
   "outputs": [
    {
     "name": "stderr",
     "output_type": "stream",
     "text": [
      "C:\\Users\\marin\\AppData\\Local\\Temp\\ipykernel_23864\\1554815595.py:6: FutureWarning: In a future version, the Index constructor will not infer numeric dtypes when passed object-dtype sequences (matching Series behavior)\n",
      "  other=pd.merge(merge1,merge3,how=\"outer\")\n",
      "C:\\Users\\marin\\AppData\\Local\\Temp\\ipykernel_23864\\1554815595.py:8: FutureWarning: In a future version, the Index constructor will not infer numeric dtypes when passed object-dtype sequences (matching Series behavior)\n",
      "  last_merge=pd.merge(other,other2,how=\"outer\")\n"
     ]
    }
   ],
   "source": [
    "merge1=df.merge(df0)\n",
    "merge2=df.merge(df1)\n",
    "merge3=df.merge(df2)\n",
    "merge4=df.merge(df3)\n",
    "\n",
    "other=pd.merge(merge1,merge3,how=\"outer\")\n",
    "other2=pd.merge(merge2,merge4,how=\"outer\")\n",
    "last_merge=pd.merge(other,other2,how=\"outer\")\n",
    "\n",
    "#hago un merge por cada excel por el cual quiero filtrar mi archivo principal y luego los uno\n",
    "\n",
    "\n",
    "\n",
    "\n",
    "\n",
    "\n",
    "\n",
    "\n"
   ]
  },
  {
   "attachments": {},
   "cell_type": "markdown",
   "metadata": {},
   "source": [
    "guardado del excel filtrado"
   ]
  },
  {
   "cell_type": "code",
   "execution_count": 130,
   "metadata": {},
   "outputs": [
    {
     "name": "stderr",
     "output_type": "stream",
     "text": [
      "C:\\Users\\marin\\AppData\\Local\\Temp\\ipykernel_23864\\3771568564.py:3: FutureWarning: save is not part of the public API, usage can give unexpected results and will be removed in a future version\n",
      "  writer.save()\n"
     ]
    },
    {
     "ename": "KeyboardInterrupt",
     "evalue": "",
     "output_type": "error",
     "traceback": [
      "\u001b[1;31m---------------------------------------------------------------------------\u001b[0m",
      "\u001b[1;31mKeyboardInterrupt\u001b[0m                         Traceback (most recent call last)",
      "Cell \u001b[1;32mIn[130], line 3\u001b[0m\n\u001b[0;32m      1\u001b[0m writer \u001b[39m=\u001b[39m ExcelWriter(\u001b[39mr\u001b[39m\u001b[39m\"\u001b[39m\u001b[39mC:\u001b[39m\u001b[39m\\\u001b[39m\u001b[39mUsers\u001b[39m\u001b[39m\\\u001b[39m\u001b[39mPublic\u001b[39m\u001b[39m\\\u001b[39m\u001b[39mExcel Filtrado.xlsx\u001b[39m\u001b[39m\"\u001b[39m)\n\u001b[0;32m      2\u001b[0m last_merge\u001b[39m.\u001b[39mto_excel(writer,\u001b[39m'\u001b[39m\u001b[39mHoja de datos\u001b[39m\u001b[39m'\u001b[39m,index\u001b[39m=\u001b[39m\u001b[39mFalse\u001b[39;00m)\n\u001b[1;32m----> 3\u001b[0m writer\u001b[39m.\u001b[39;49msave()\n\u001b[0;32m      5\u001b[0m ventana \u001b[39m=\u001b[39m tk\u001b[39m.\u001b[39mTk()\n\u001b[0;32m      6\u001b[0m ventana\u001b[39m.\u001b[39mtitle(\u001b[39m\"\u001b[39m\u001b[39m\"\u001b[39m)     \n",
      "File \u001b[1;32mc:\\Users\\marin\\AppData\\Local\\Programs\\Python\\Python311\\Lib\\site-packages\\pandas\\io\\excel\\_base.py:1275\u001b[0m, in \u001b[0;36mExcelWriter.save\u001b[1;34m(self)\u001b[0m\n\u001b[0;32m   1269\u001b[0m \u001b[39m\u001b[39m\u001b[39m\"\"\"\u001b[39;00m\n\u001b[0;32m   1270\u001b[0m \u001b[39mSave workbook to disk.\u001b[39;00m\n\u001b[0;32m   1271\u001b[0m \n\u001b[0;32m   1272\u001b[0m \u001b[39m.. deprecated:: 1.5.0\u001b[39;00m\n\u001b[0;32m   1273\u001b[0m \u001b[39m\"\"\"\u001b[39;00m\n\u001b[0;32m   1274\u001b[0m \u001b[39mself\u001b[39m\u001b[39m.\u001b[39m_deprecate(\u001b[39m\"\u001b[39m\u001b[39msave\u001b[39m\u001b[39m\"\u001b[39m)\n\u001b[1;32m-> 1275\u001b[0m \u001b[39mreturn\u001b[39;00m \u001b[39mself\u001b[39;49m\u001b[39m.\u001b[39;49m_save()\n",
      "File \u001b[1;32mc:\\Users\\marin\\AppData\\Local\\Programs\\Python\\Python311\\Lib\\site-packages\\pandas\\io\\excel\\_openpyxl.py:109\u001b[0m, in \u001b[0;36mOpenpyxlWriter._save\u001b[1;34m(self)\u001b[0m\n\u001b[0;32m    105\u001b[0m \u001b[39mdef\u001b[39;00m \u001b[39m_save\u001b[39m(\u001b[39mself\u001b[39m) \u001b[39m-\u001b[39m\u001b[39m>\u001b[39m \u001b[39mNone\u001b[39;00m:\n\u001b[0;32m    106\u001b[0m \u001b[39m    \u001b[39m\u001b[39m\"\"\"\u001b[39;00m\n\u001b[0;32m    107\u001b[0m \u001b[39m    Save workbook to disk.\u001b[39;00m\n\u001b[0;32m    108\u001b[0m \u001b[39m    \"\"\"\u001b[39;00m\n\u001b[1;32m--> 109\u001b[0m     \u001b[39mself\u001b[39;49m\u001b[39m.\u001b[39;49mbook\u001b[39m.\u001b[39;49msave(\u001b[39mself\u001b[39;49m\u001b[39m.\u001b[39;49m_handles\u001b[39m.\u001b[39;49mhandle)\n\u001b[0;32m    110\u001b[0m     \u001b[39mif\u001b[39;00m \u001b[39m\"\u001b[39m\u001b[39mr+\u001b[39m\u001b[39m\"\u001b[39m \u001b[39min\u001b[39;00m \u001b[39mself\u001b[39m\u001b[39m.\u001b[39m_mode \u001b[39mand\u001b[39;00m \u001b[39mnot\u001b[39;00m \u001b[39misinstance\u001b[39m(\u001b[39mself\u001b[39m\u001b[39m.\u001b[39m_handles\u001b[39m.\u001b[39mhandle, mmap\u001b[39m.\u001b[39mmmap):\n\u001b[0;32m    111\u001b[0m         \u001b[39m# truncate file to the written content\u001b[39;00m\n\u001b[0;32m    112\u001b[0m         \u001b[39mself\u001b[39m\u001b[39m.\u001b[39m_handles\u001b[39m.\u001b[39mhandle\u001b[39m.\u001b[39mtruncate()\n",
      "File \u001b[1;32mc:\\Users\\marin\\AppData\\Local\\Programs\\Python\\Python311\\Lib\\site-packages\\openpyxl\\workbook\\workbook.py:407\u001b[0m, in \u001b[0;36mWorkbook.save\u001b[1;34m(self, filename)\u001b[0m\n\u001b[0;32m    405\u001b[0m \u001b[39mif\u001b[39;00m \u001b[39mself\u001b[39m\u001b[39m.\u001b[39mwrite_only \u001b[39mand\u001b[39;00m \u001b[39mnot\u001b[39;00m \u001b[39mself\u001b[39m\u001b[39m.\u001b[39mworksheets:\n\u001b[0;32m    406\u001b[0m     \u001b[39mself\u001b[39m\u001b[39m.\u001b[39mcreate_sheet()\n\u001b[1;32m--> 407\u001b[0m save_workbook(\u001b[39mself\u001b[39;49m, filename)\n",
      "File \u001b[1;32mc:\\Users\\marin\\AppData\\Local\\Programs\\Python\\Python311\\Lib\\site-packages\\openpyxl\\writer\\excel.py:293\u001b[0m, in \u001b[0;36msave_workbook\u001b[1;34m(workbook, filename)\u001b[0m\n\u001b[0;32m    291\u001b[0m archive \u001b[39m=\u001b[39m ZipFile(filename, \u001b[39m'\u001b[39m\u001b[39mw\u001b[39m\u001b[39m'\u001b[39m, ZIP_DEFLATED, allowZip64\u001b[39m=\u001b[39m\u001b[39mTrue\u001b[39;00m)\n\u001b[0;32m    292\u001b[0m writer \u001b[39m=\u001b[39m ExcelWriter(workbook, archive)\n\u001b[1;32m--> 293\u001b[0m writer\u001b[39m.\u001b[39;49msave()\n\u001b[0;32m    294\u001b[0m \u001b[39mreturn\u001b[39;00m \u001b[39mTrue\u001b[39;00m\n",
      "File \u001b[1;32mc:\\Users\\marin\\AppData\\Local\\Programs\\Python\\Python311\\Lib\\site-packages\\openpyxl\\writer\\excel.py:275\u001b[0m, in \u001b[0;36mExcelWriter.save\u001b[1;34m(self)\u001b[0m\n\u001b[0;32m    273\u001b[0m \u001b[39mdef\u001b[39;00m \u001b[39msave\u001b[39m(\u001b[39mself\u001b[39m):\n\u001b[0;32m    274\u001b[0m \u001b[39m    \u001b[39m\u001b[39m\"\"\"Write data into the archive.\"\"\"\u001b[39;00m\n\u001b[1;32m--> 275\u001b[0m     \u001b[39mself\u001b[39;49m\u001b[39m.\u001b[39;49mwrite_data()\n\u001b[0;32m    276\u001b[0m     \u001b[39mself\u001b[39m\u001b[39m.\u001b[39m_archive\u001b[39m.\u001b[39mclose()\n",
      "File \u001b[1;32mc:\\Users\\marin\\AppData\\Local\\Programs\\Python\\Python311\\Lib\\site-packages\\openpyxl\\writer\\excel.py:75\u001b[0m, in \u001b[0;36mExcelWriter.write_data\u001b[1;34m(self)\u001b[0m\n\u001b[0;32m     72\u001b[0m \u001b[39melse\u001b[39;00m:\n\u001b[0;32m     73\u001b[0m     archive\u001b[39m.\u001b[39mwritestr(ARC_THEME, theme_xml)\n\u001b[1;32m---> 75\u001b[0m \u001b[39mself\u001b[39;49m\u001b[39m.\u001b[39;49m_write_worksheets()\n\u001b[0;32m     76\u001b[0m \u001b[39mself\u001b[39m\u001b[39m.\u001b[39m_write_chartsheets()\n\u001b[0;32m     77\u001b[0m \u001b[39mself\u001b[39m\u001b[39m.\u001b[39m_write_images()\n",
      "File \u001b[1;32mc:\\Users\\marin\\AppData\\Local\\Programs\\Python\\Python311\\Lib\\site-packages\\openpyxl\\writer\\excel.py:215\u001b[0m, in \u001b[0;36mExcelWriter._write_worksheets\u001b[1;34m(self)\u001b[0m\n\u001b[0;32m    212\u001b[0m \u001b[39mfor\u001b[39;00m idx, ws \u001b[39min\u001b[39;00m \u001b[39menumerate\u001b[39m(\u001b[39mself\u001b[39m\u001b[39m.\u001b[39mworkbook\u001b[39m.\u001b[39mworksheets, \u001b[39m1\u001b[39m):\n\u001b[0;32m    214\u001b[0m     ws\u001b[39m.\u001b[39m_id \u001b[39m=\u001b[39m idx\n\u001b[1;32m--> 215\u001b[0m     \u001b[39mself\u001b[39;49m\u001b[39m.\u001b[39;49mwrite_worksheet(ws)\n\u001b[0;32m    217\u001b[0m     \u001b[39mif\u001b[39;00m ws\u001b[39m.\u001b[39m_drawing:\n\u001b[0;32m    218\u001b[0m         \u001b[39mself\u001b[39m\u001b[39m.\u001b[39m_write_drawing(ws\u001b[39m.\u001b[39m_drawing)\n",
      "File \u001b[1;32mc:\\Users\\marin\\AppData\\Local\\Programs\\Python\\Python311\\Lib\\site-packages\\openpyxl\\writer\\excel.py:200\u001b[0m, in \u001b[0;36mExcelWriter.write_worksheet\u001b[1;34m(self, ws)\u001b[0m\n\u001b[0;32m    198\u001b[0m \u001b[39melse\u001b[39;00m:\n\u001b[0;32m    199\u001b[0m     writer \u001b[39m=\u001b[39m WorksheetWriter(ws)\n\u001b[1;32m--> 200\u001b[0m     writer\u001b[39m.\u001b[39;49mwrite()\n\u001b[0;32m    202\u001b[0m ws\u001b[39m.\u001b[39m_rels \u001b[39m=\u001b[39m writer\u001b[39m.\u001b[39m_rels\n\u001b[0;32m    203\u001b[0m \u001b[39mself\u001b[39m\u001b[39m.\u001b[39m_archive\u001b[39m.\u001b[39mwrite(writer\u001b[39m.\u001b[39mout, ws\u001b[39m.\u001b[39mpath[\u001b[39m1\u001b[39m:])\n",
      "File \u001b[1;32mc:\\Users\\marin\\AppData\\Local\\Programs\\Python\\Python311\\Lib\\site-packages\\openpyxl\\worksheet\\_writer.py:361\u001b[0m, in \u001b[0;36mWorksheetWriter.write\u001b[1;34m(self)\u001b[0m\n\u001b[0;32m    359\u001b[0m \u001b[39mself\u001b[39m\u001b[39m.\u001b[39mwrite_rows()\n\u001b[0;32m    360\u001b[0m \u001b[39mself\u001b[39m\u001b[39m.\u001b[39mwrite_tail()\n\u001b[1;32m--> 361\u001b[0m \u001b[39mself\u001b[39;49m\u001b[39m.\u001b[39;49mclose()\n",
      "File \u001b[1;32mc:\\Users\\marin\\AppData\\Local\\Programs\\Python\\Python311\\Lib\\site-packages\\openpyxl\\worksheet\\_writer.py:369\u001b[0m, in \u001b[0;36mWorksheetWriter.close\u001b[1;34m(self)\u001b[0m\n\u001b[0;32m    365\u001b[0m \u001b[39m\u001b[39m\u001b[39m\"\"\"\u001b[39;00m\n\u001b[0;32m    366\u001b[0m \u001b[39mClose the context manager\u001b[39;00m\n\u001b[0;32m    367\u001b[0m \u001b[39m\"\"\"\u001b[39;00m\n\u001b[0;32m    368\u001b[0m \u001b[39mif\u001b[39;00m \u001b[39mself\u001b[39m\u001b[39m.\u001b[39mxf:\n\u001b[1;32m--> 369\u001b[0m     \u001b[39mself\u001b[39;49m\u001b[39m.\u001b[39;49mxf\u001b[39m.\u001b[39;49mclose()\n",
      "File \u001b[1;32mc:\\Users\\marin\\AppData\\Local\\Programs\\Python\\Python311\\Lib\\site-packages\\openpyxl\\worksheet\\_writer.py:289\u001b[0m, in \u001b[0;36mWorksheetWriter.get_stream\u001b[1;34m(self)\u001b[0m\n\u001b[0;32m    287\u001b[0m \u001b[39mdef\u001b[39;00m \u001b[39mget_stream\u001b[39m(\u001b[39mself\u001b[39m):\n\u001b[0;32m    288\u001b[0m     \u001b[39mwith\u001b[39;00m xmlfile(\u001b[39mself\u001b[39m\u001b[39m.\u001b[39mout) \u001b[39mas\u001b[39;00m xf:\n\u001b[1;32m--> 289\u001b[0m         \u001b[39mwith\u001b[39;49;00m xf\u001b[39m.\u001b[39;49melement(\u001b[39m\"\u001b[39;49m\u001b[39mworksheet\u001b[39;49m\u001b[39m\"\u001b[39;49m, xmlns\u001b[39m=\u001b[39;49mSHEET_MAIN_NS):\n\u001b[0;32m    290\u001b[0m             \u001b[39mtry\u001b[39;49;00m:\n\u001b[0;32m    291\u001b[0m                 \u001b[39mwhile\u001b[39;49;00m \u001b[39mTrue\u001b[39;49;00m:\n",
      "File \u001b[1;32mc:\\Users\\marin\\AppData\\Local\\Programs\\Python\\Python311\\Lib\\contextlib.py:144\u001b[0m, in \u001b[0;36m_GeneratorContextManager.__exit__\u001b[1;34m(self, typ, value, traceback)\u001b[0m\n\u001b[0;32m    142\u001b[0m \u001b[39mif\u001b[39;00m typ \u001b[39mis\u001b[39;00m \u001b[39mNone\u001b[39;00m:\n\u001b[0;32m    143\u001b[0m     \u001b[39mtry\u001b[39;00m:\n\u001b[1;32m--> 144\u001b[0m         \u001b[39mnext\u001b[39m(\u001b[39mself\u001b[39m\u001b[39m.\u001b[39mgen)\n\u001b[0;32m    145\u001b[0m     \u001b[39mexcept\u001b[39;00m \u001b[39mStopIteration\u001b[39;00m:\n\u001b[0;32m    146\u001b[0m         \u001b[39mreturn\u001b[39;00m \u001b[39mFalse\u001b[39;00m\n",
      "File \u001b[1;32mc:\\Users\\marin\\AppData\\Local\\Programs\\Python\\Python311\\Lib\\site-packages\\et_xmlfile\\xmlfile.py:50\u001b[0m, in \u001b[0;36m_FakeIncrementalFileWriter.element\u001b[1;34m(self, tag, attrib, nsmap, **_extra)\u001b[0m\n\u001b[0;32m     48\u001b[0m     \u001b[39mself\u001b[39m\u001b[39m.\u001b[39m_top_element \u001b[39m=\u001b[39m parent\n\u001b[0;32m     49\u001b[0m \u001b[39melse\u001b[39;00m:\n\u001b[1;32m---> 50\u001b[0m     \u001b[39mself\u001b[39;49m\u001b[39m.\u001b[39;49m_write_element(el)\n\u001b[0;32m     51\u001b[0m     \u001b[39mself\u001b[39m\u001b[39m.\u001b[39m_top_element \u001b[39m=\u001b[39m \u001b[39mNone\u001b[39;00m\n",
      "File \u001b[1;32mc:\\Users\\marin\\AppData\\Local\\Programs\\Python\\Python311\\Lib\\site-packages\\et_xmlfile\\xmlfile.py:77\u001b[0m, in \u001b[0;36m_FakeIncrementalFileWriter._write_element\u001b[1;34m(self, element)\u001b[0m\n\u001b[0;32m     76\u001b[0m \u001b[39mdef\u001b[39;00m \u001b[39m_write_element\u001b[39m(\u001b[39mself\u001b[39m, element):\n\u001b[1;32m---> 77\u001b[0m     xml \u001b[39m=\u001b[39m tostring(element)\n\u001b[0;32m     78\u001b[0m     \u001b[39mself\u001b[39m\u001b[39m.\u001b[39m_file\u001b[39m.\u001b[39mwrite(xml)\n",
      "File \u001b[1;32mc:\\Users\\marin\\AppData\\Local\\Programs\\Python\\Python311\\Lib\\xml\\etree\\ElementTree.py:1098\u001b[0m, in \u001b[0;36mtostring\u001b[1;34m(element, encoding, method, xml_declaration, default_namespace, short_empty_elements)\u001b[0m\n\u001b[0;32m   1084\u001b[0m \u001b[39m\u001b[39m\u001b[39m\"\"\"Generate string representation of XML element.\u001b[39;00m\n\u001b[0;32m   1085\u001b[0m \n\u001b[0;32m   1086\u001b[0m \u001b[39mAll subelements are included.  If encoding is \"unicode\", a string\u001b[39;00m\n\u001b[1;32m   (...)\u001b[0m\n\u001b[0;32m   1095\u001b[0m \n\u001b[0;32m   1096\u001b[0m \u001b[39m\"\"\"\u001b[39;00m\n\u001b[0;32m   1097\u001b[0m stream \u001b[39m=\u001b[39m io\u001b[39m.\u001b[39mStringIO() \u001b[39mif\u001b[39;00m encoding \u001b[39m==\u001b[39m \u001b[39m'\u001b[39m\u001b[39municode\u001b[39m\u001b[39m'\u001b[39m \u001b[39melse\u001b[39;00m io\u001b[39m.\u001b[39mBytesIO()\n\u001b[1;32m-> 1098\u001b[0m ElementTree(element)\u001b[39m.\u001b[39;49mwrite(stream, encoding,\n\u001b[0;32m   1099\u001b[0m                            xml_declaration\u001b[39m=\u001b[39;49mxml_declaration,\n\u001b[0;32m   1100\u001b[0m                            default_namespace\u001b[39m=\u001b[39;49mdefault_namespace,\n\u001b[0;32m   1101\u001b[0m                            method\u001b[39m=\u001b[39;49mmethod,\n\u001b[0;32m   1102\u001b[0m                            short_empty_elements\u001b[39m=\u001b[39;49mshort_empty_elements)\n\u001b[0;32m   1103\u001b[0m \u001b[39mreturn\u001b[39;00m stream\u001b[39m.\u001b[39mgetvalue()\n",
      "File \u001b[1;32mc:\\Users\\marin\\AppData\\Local\\Programs\\Python\\Python311\\Lib\\xml\\etree\\ElementTree.py:743\u001b[0m, in \u001b[0;36mElementTree.write\u001b[1;34m(self, file_or_filename, encoding, xml_declaration, default_namespace, method, short_empty_elements)\u001b[0m\n\u001b[0;32m    741\u001b[0m qnames, namespaces \u001b[39m=\u001b[39m _namespaces(\u001b[39mself\u001b[39m\u001b[39m.\u001b[39m_root, default_namespace)\n\u001b[0;32m    742\u001b[0m serialize \u001b[39m=\u001b[39m _serialize[method]\n\u001b[1;32m--> 743\u001b[0m serialize(write, \u001b[39mself\u001b[39;49m\u001b[39m.\u001b[39;49m_root, qnames, namespaces,\n\u001b[0;32m    744\u001b[0m           short_empty_elements\u001b[39m=\u001b[39;49mshort_empty_elements)\n",
      "File \u001b[1;32mc:\\Users\\marin\\AppData\\Local\\Programs\\Python\\Python311\\Lib\\xml\\etree\\ElementTree.py:906\u001b[0m, in \u001b[0;36m_serialize_xml\u001b[1;34m(write, elem, qnames, namespaces, short_empty_elements, **kwargs)\u001b[0m\n\u001b[0;32m    904\u001b[0m         write(_escape_cdata(text))\n\u001b[0;32m    905\u001b[0m     \u001b[39mfor\u001b[39;00m e \u001b[39min\u001b[39;00m elem:\n\u001b[1;32m--> 906\u001b[0m         _serialize_xml(write, e, qnames, \u001b[39mNone\u001b[39;49;00m,\n\u001b[0;32m    907\u001b[0m                        short_empty_elements\u001b[39m=\u001b[39;49mshort_empty_elements)\n\u001b[0;32m    908\u001b[0m     write(\u001b[39m\"\u001b[39m\u001b[39m</\u001b[39m\u001b[39m\"\u001b[39m \u001b[39m+\u001b[39m tag \u001b[39m+\u001b[39m \u001b[39m\"\u001b[39m\u001b[39m>\u001b[39m\u001b[39m\"\u001b[39m)\n\u001b[0;32m    909\u001b[0m \u001b[39melse\u001b[39;00m:\n",
      "File \u001b[1;32mc:\\Users\\marin\\AppData\\Local\\Programs\\Python\\Python311\\Lib\\xml\\etree\\ElementTree.py:906\u001b[0m, in \u001b[0;36m_serialize_xml\u001b[1;34m(write, elem, qnames, namespaces, short_empty_elements, **kwargs)\u001b[0m\n\u001b[0;32m    904\u001b[0m         write(_escape_cdata(text))\n\u001b[0;32m    905\u001b[0m     \u001b[39mfor\u001b[39;00m e \u001b[39min\u001b[39;00m elem:\n\u001b[1;32m--> 906\u001b[0m         _serialize_xml(write, e, qnames, \u001b[39mNone\u001b[39;49;00m,\n\u001b[0;32m    907\u001b[0m                        short_empty_elements\u001b[39m=\u001b[39;49mshort_empty_elements)\n\u001b[0;32m    908\u001b[0m     write(\u001b[39m\"\u001b[39m\u001b[39m</\u001b[39m\u001b[39m\"\u001b[39m \u001b[39m+\u001b[39m tag \u001b[39m+\u001b[39m \u001b[39m\"\u001b[39m\u001b[39m>\u001b[39m\u001b[39m\"\u001b[39m)\n\u001b[0;32m    909\u001b[0m \u001b[39melse\u001b[39;00m:\n",
      "File \u001b[1;32mc:\\Users\\marin\\AppData\\Local\\Programs\\Python\\Python311\\Lib\\xml\\etree\\ElementTree.py:906\u001b[0m, in \u001b[0;36m_serialize_xml\u001b[1;34m(write, elem, qnames, namespaces, short_empty_elements, **kwargs)\u001b[0m\n\u001b[0;32m    904\u001b[0m         write(_escape_cdata(text))\n\u001b[0;32m    905\u001b[0m     \u001b[39mfor\u001b[39;00m e \u001b[39min\u001b[39;00m elem:\n\u001b[1;32m--> 906\u001b[0m         _serialize_xml(write, e, qnames, \u001b[39mNone\u001b[39;49;00m,\n\u001b[0;32m    907\u001b[0m                        short_empty_elements\u001b[39m=\u001b[39;49mshort_empty_elements)\n\u001b[0;32m    908\u001b[0m     write(\u001b[39m\"\u001b[39m\u001b[39m</\u001b[39m\u001b[39m\"\u001b[39m \u001b[39m+\u001b[39m tag \u001b[39m+\u001b[39m \u001b[39m\"\u001b[39m\u001b[39m>\u001b[39m\u001b[39m\"\u001b[39m)\n\u001b[0;32m    909\u001b[0m \u001b[39melse\u001b[39;00m:\n",
      "File \u001b[1;32mc:\\Users\\marin\\AppData\\Local\\Programs\\Python\\Python311\\Lib\\xml\\etree\\ElementTree.py:900\u001b[0m, in \u001b[0;36m_serialize_xml\u001b[1;34m(write, elem, qnames, namespaces, short_empty_elements, **kwargs)\u001b[0m\n\u001b[0;32m    898\u001b[0m         \u001b[39melse\u001b[39;00m:\n\u001b[0;32m    899\u001b[0m             v \u001b[39m=\u001b[39m _escape_attrib(v)\n\u001b[1;32m--> 900\u001b[0m         write(\u001b[39m\"\u001b[39m\u001b[39m \u001b[39m\u001b[39m%s\u001b[39;00m\u001b[39m=\u001b[39m\u001b[39m\\\"\u001b[39;00m\u001b[39m%s\u001b[39;00m\u001b[39m\\\"\u001b[39;00m\u001b[39m\"\u001b[39m \u001b[39m%\u001b[39m (qnames[k], v))\n\u001b[0;32m    901\u001b[0m \u001b[39mif\u001b[39;00m text \u001b[39mor\u001b[39;00m \u001b[39mlen\u001b[39m(elem) \u001b[39mor\u001b[39;00m \u001b[39mnot\u001b[39;00m short_empty_elements:\n\u001b[0;32m    902\u001b[0m     write(\u001b[39m\"\u001b[39m\u001b[39m>\u001b[39m\u001b[39m\"\u001b[39m)\n",
      "\u001b[1;31mKeyboardInterrupt\u001b[0m: "
     ]
    }
   ],
   "source": [
    "writer = ExcelWriter(r\"C:\\Users\\Public\\Excel Filtrado.xlsx\")\n",
    "last_merge.to_excel(writer,'Hoja de datos',index=False)\n",
    "writer.save()\n",
    "\n",
    "ventana = tk.Tk()\n",
    "ventana.title(\"\")     \n",
    "ventana.geometry(\"380x200\")\n",
    "\n",
    "etiqueta1=tk.Label(ventana,text=\"El proceso de filtrado a finalizado\",bg=\"green\")\n",
    "etiqueta1.pack(pady=\"40px\",fill=tk.X)\n",
    "etiqueta2 = tk.Label(ventana,text=\"El archivo se guardo en: disco C> usuarios > Acceso publico\",bg=\"yellow\")\n",
    "etiqueta2.pack(fill=tk.X)\n",
    "\n",
    "ventana.mainloop()"
   ]
  }
 ],
 "metadata": {
  "kernelspec": {
   "display_name": "Python 3",
   "language": "python",
   "name": "python3"
  },
  "language_info": {
   "name": "python",
   "version": "3.11.1"
  },
  "orig_nbformat": 4,
  "vscode": {
   "interpreter": {
    "hash": "ff4f50197e4f4f2fe1b7ae506bedd3a10a12c3116b597d9880e1377129d33155"
   }
  }
 },
 "nbformat": 4,
 "nbformat_minor": 2
}
